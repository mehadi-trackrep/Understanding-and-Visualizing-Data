{
 "cells": [
  {
   "cell_type": "markdown",
   "metadata": {},
   "source": [
    "Question 1.\n",
    "In the code block below, generate 3 normal random variables with mean 100 and standard deviation 1.\n",
    "\n",
    "This will require about 4 lines of code. Use the functions provided in this outline.\n",
    "\n",
    "Import the numpy library\n",
    "Set the seed to 123 to initialize environment so random variables are replicated according to the grader. (hint: np.random.seed(?))\n",
    "Generate three random normal variables with mean 100 and standard deviation 1 and assign them to a variable named sample. (hint: np.random.normal(?,?,?))\n",
    "Print the variable sample.\n"
   ]
  },
  {
   "cell_type": "code",
   "execution_count": 1,
   "metadata": {
    "tags": []
   },
   "outputs": [
    {
     "output_type": "stream",
     "name": "stdout",
     "text": "[ 98.9143694  100.99734545 100.2829785 ]\n"
    }
   ],
   "source": [
    "import numpy as np\n",
    "np.random.seed(123)\n",
    "samples= np.random.normal(100, 1, 3) # 3 samples are to return\n",
    "print(samples)\n"
   ]
  },
  {
   "cell_type": "code",
   "execution_count": 11,
   "metadata": {
    "tags": []
   },
   "outputs": [
    {
     "output_type": "stream",
     "name": "stdout",
     "text": "[99.78796683 99.71507083 99.42610179]\n"
    }
   ],
   "source": [
    "import numpy as np\n",
    "np.random.seed(121)\n",
    "samples= np.random.normal(100, 1, 3) # 3 samples are to return\n",
    "print(samples)\n"
   ]
  },
  {
   "cell_type": "markdown",
   "metadata": {},
   "source": [
    "Question 2.\n",
    "Generating random samples from a population lies at the heart of statistics. In the code block below, draw a sample of size 10 from a set containing the integers 1 through 100.\n",
    "\n",
    "This will require about 5 lines of code. Use the functions provided in this outline.\n",
    "\n",
    "Import the numpy library\n",
    "Set the seed to 123 to initialize environment so random variables are replicated according to the grader. (hint: np.random.seed(?))\n",
    "Create a vector called population, and put the numbers 1-100 into the population list. (hint: np.arange(?,?))\n",
    "Generate a sample with length 10 from the population. (hint: np.random.choice(?, ?)) and assign the output to a variable named sample.\n",
    "Print the variable sample.\n"
   ]
  },
  {
   "cell_type": "code",
   "execution_count": 2,
   "metadata": {
    "tags": []
   },
   "outputs": [
    {
     "output_type": "stream",
     "name": "stdout",
     "text": "[67 93 99 18 84 58 87 98 97 48]\n"
    }
   ],
   "source": [
    "import numpy as np\n",
    "np.random.seed(123) #There are many random generators, to use specific we've to mention a specific seed value that is the name of the generator\n",
    "population = np.arange(1,101)\n",
    "samples = np.random.choice(population, 10)\n",
    "print(samples)"
   ]
  },
  {
   "cell_type": "code",
   "execution_count": 3,
   "metadata": {
    "tags": []
   },
   "outputs": [
    {
     "output_type": "stream",
     "name": "stdout",
     "text": "[27 11 55 77 63 17 16 60 99 80]\n"
    }
   ],
   "source": [
    "import numpy as np\n",
    "np.random.seed(122) #There are many random generators, to use specific we've to mention a specific seed value that is the name of the generator\n",
    "population = np.arange(1,101)\n",
    "samples = np.random.choice(population, 10)\n",
    "print(samples)"
   ]
  },
  {
   "cell_type": "code",
   "execution_count": 9,
   "metadata": {
    "tags": []
   },
   "outputs": [
    {
     "output_type": "stream",
     "name": "stdout",
     "text": "[67 93 99 18 84 58 87 98 97 48]\n"
    }
   ],
   "source": [
    "import numpy as np\n",
    "np.random.seed(123) #There are many random generators, to use specific we've to mention a specific seed value that is the name of the generator\n",
    "population = np.arange(1,101)\n",
    "samples = np.random.choice(population, 10)\n",
    "print(samples)"
   ]
  }
 ],
 "metadata": {
  "language_info": {
   "codemirror_mode": {
    "name": "ipython",
    "version": 3
   },
   "file_extension": ".py",
   "mimetype": "text/x-python",
   "name": "python",
   "nbconvert_exporter": "python",
   "pygments_lexer": "ipython3",
   "version": "3.8.3-final"
  },
  "orig_nbformat": 2,
  "kernelspec": {
   "name": "python38332bit01c538789d594ece93de240dfc94e56d",
   "display_name": "Python 3.8.3 32-bit"
  }
 },
 "nbformat": 4,
 "nbformat_minor": 2
}